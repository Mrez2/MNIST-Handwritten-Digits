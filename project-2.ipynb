{
 "cells": [
  {
   "cell_type": "markdown",
   "id": "c7935755",
   "metadata": {},
   "source": [
    "## Project: Deep Learning - CNN Classification\n",
    "## Dataset: MNIST Handwritten Digits (from keras)"
   ]
  },
  {
   "cell_type": "markdown",
   "id": "4ede36ca",
   "metadata": {},
   "source": [
    "##### Step 1: Import Libraries "
   ]
  },
  {
   "cell_type": "code",
   "execution_count": 4,
   "id": "579b1b33",
   "metadata": {},
   "outputs": [],
   "source": [
    "import numpy as np\n",
    "import matplotlib.pyplot as plt\n",
    "import seaborn as sns\n",
    "\n",
    "from tensorflow.keras.datasets import mnist\n",
    "from tensorflow.keras.models import Sequential\n",
    "from tensorflow.keras.layers import Conv2D, MaxPooling2D, Flatten, Dense, Dropout\n",
    "from tensorflow.keras.utils import to_categorical"
   ]
  },
  {
   "cell_type": "markdown",
   "id": "2f1c73f0",
   "metadata": {},
   "source": [
    "##### Step 2: Load Dataset"
   ]
  },
  {
   "cell_type": "code",
   "execution_count": 5,
   "id": "0703d28d",
   "metadata": {},
   "outputs": [
    {
     "name": "stdout",
     "output_type": "stream",
     "text": [
      "Downloading data from https://storage.googleapis.com/tensorflow/tf-keras-datasets/mnist.npz\n",
      "\u001b[1m11490434/11490434\u001b[0m \u001b[32m━━━━━━━━━━━━━━━━━━━━\u001b[0m\u001b[37m\u001b[0m \u001b[1m7s\u001b[0m 1us/step\n"
     ]
    }
   ],
   "source": [
    "# Load MNIST dataset from keras\n",
    "(X_train, y_train), (X_test, y_test) = mnist.load_data()"
   ]
  },
  {
   "cell_type": "markdown",
   "id": "cc670a5b",
   "metadata": {},
   "source": [
    "##### TODO: Normalize the images (divide by 255.0)\n"
   ]
  },
  {
   "cell_type": "code",
   "execution_count": 6,
   "id": "0eef0984",
   "metadata": {},
   "outputs": [],
   "source": [
    "X_train = X_train.astype('float32') / 255.0                        # normalize X_train\n",
    "X_test = X_test.astype('float32') / 255.0                         # normalize X_test"
   ]
  },
  {
   "cell_type": "markdown",
   "id": "33e13e49",
   "metadata": {},
   "source": [
    "##### TODO: Reshape the data to include channel dimension (28,28,1)\n"
   ]
  },
  {
   "cell_type": "code",
   "execution_count": 7,
   "id": "251d9496",
   "metadata": {},
   "outputs": [
    {
     "name": "stdout",
     "output_type": "stream",
     "text": [
      "X_train shape: (60000, 28, 28, 1)\n",
      "X_test shape: (10000, 28, 28, 1)\n"
     ]
    }
   ],
   "source": [
    "X_train = X_train.reshape(X_train.shape[0], 28, 28, 1)\n",
    "X_test = X_test.reshape(X_test.shape[0], 28, 28, 1)\n",
    "\n",
    "print('X_train shape:', X_train.shape)\n",
    "print('X_test shape:', X_test.shape)"
   ]
  },
  {
   "cell_type": "markdown",
   "id": "1385bed5",
   "metadata": {},
   "source": [
    "##### TODO: One-hot encode the labels using to_categorical\n"
   ]
  },
  {
   "cell_type": "code",
   "execution_count": 8,
   "id": "a1cdd4d4",
   "metadata": {},
   "outputs": [
    {
     "name": "stdout",
     "output_type": "stream",
     "text": [
      "y_train_cat shape: (60000, 10)\n",
      "y_test_cat shape: (10000, 10)\n"
     ]
    }
   ],
   "source": [
    "y_train_cat = to_categorical(y_train, num_classes=10)\n",
    "y_test_cat = to_categorical(y_test, num_classes=10)\n",
    "\n",
    "print('y_train_cat shape:', y_train_cat.shape)\n",
    "print('y_test_cat shape:', y_test_cat.shape)"
   ]
  },
  {
   "cell_type": "markdown",
   "id": "83ba934c",
   "metadata": {},
   "source": [
    "#####  Step 3: Explore Dataset \n"
   ]
  },
  {
   "cell_type": "code",
   "execution_count": 9,
   "id": "62618195",
   "metadata": {},
   "outputs": [
    {
     "data": {
      "image/png": "[encoded data removed]",
      "text/plain": [
       "<Figure size 640x480 with 1 Axes>"
      ]
     },
     "metadata": {},
     "output_type": "display_data"
    }
   ],
   "source": [
    "# Plot an example digit\n",
    "plt.imshow(X_train[0].reshape(28,28), cmap='gray')\n",
    "plt.title(\"Sample Digit\")\n",
    "plt.show()"
   ]
  },
  {
   "cell_type": "code",
   "execution_count": 10,
   "id": "57639cc5",
   "metadata": {},
   "outputs": [
    {
     "name": "stdout",
     "output_type": "stream",
     "text": [
      "Train shape: (60000, 28, 28, 1)\n",
      "Test shape: (10000, 28, 28, 1)\n"
     ]
    }
   ],
   "source": [
    "# Print shape of data\n",
    "print(\"Train shape:\", X_train.shape)\n",
    "print(\"Test shape:\", X_test.shape)"
   ]
  },
  {
   "cell_type": "markdown",
   "id": "67d3e064",
   "metadata": {},
   "source": [
    "\n",
    "##### Step 4: Build CNN Model \n"
   ]
  },
  {
   "cell_type": "code",
   "execution_count": 11,
   "id": "3f6f6129",
   "metadata": {},
   "outputs": [],
   "source": [
    "model = Sequential()"
   ]
  },
  {
   "cell_type": "markdown",
   "id": "f2cba339",
   "metadata": {},
   "source": [
    "##### TODO: Add a Conv2D layer with 32 filters, kernel_size=(3,3), activation='relu', input_shape=(28,28,1)\n"
   ]
  },
  {
   "cell_type": "code",
   "execution_count": 24,
   "id": "758e90ea",
   "metadata": {},
   "outputs": [],
   "source": [
    "from tensorflow.keras.layers import Input, MaxPooling2D, Conv2D, Flatten , Dense , Dropout\n",
    "model = Sequential()\n",
    "model.add(Input(shape=(28, 28, 1)))\n",
    "model.add(Conv2D(32, kernel_size=(3, 3), activation='relu'))"
   ]
  },
  {
   "cell_type": "markdown",
   "id": "9765eb26",
   "metadata": {},
   "source": [
    "##### TODO: Add a MaxPooling2D layer (pool_size=(2,2))\n"
   ]
  },
  {
   "cell_type": "code",
   "execution_count": 18,
   "id": "462921c4",
   "metadata": {},
   "outputs": [],
   "source": [
    "model.add(MaxPooling2D(pool_size=(2, 2)))"
   ]
  },
  {
   "cell_type": "markdown",
   "id": "01067861",
   "metadata": {},
   "source": [
    "##### TODO: Add another Conv2D layer with 64 filters and relu activation\n"
   ]
  },
  {
   "cell_type": "code",
   "execution_count": 19,
   "id": "d6ad62af",
   "metadata": {},
   "outputs": [],
   "source": [
    "model.add(Conv2D(64, kernel_size=(3, 3), activation='relu'))"
   ]
  },
  {
   "cell_type": "markdown",
   "id": "5efc5089",
   "metadata": {},
   "source": [
    "##### TODO: Add another MaxPooling2D layer"
   ]
  },
  {
   "cell_type": "code",
   "execution_count": 20,
   "id": "9f213e22",
   "metadata": {},
   "outputs": [],
   "source": [
    "model.add(MaxPooling2D(pool_size=(2, 2)))"
   ]
  },
  {
   "cell_type": "markdown",
   "id": "7ae21941",
   "metadata": {},
   "source": [
    "##### TODO: Flatten the output"
   ]
  },
  {
   "cell_type": "code",
   "execution_count": 21,
   "id": "c5fc1fd2",
   "metadata": {},
   "outputs": [],
   "source": [
    "model.add(Flatten())"
   ]
  },
  {
   "cell_type": "markdown",
   "id": "a8b44523",
   "metadata": {},
   "source": [
    "##### TODO: Add a Dense layer with 128 neurons and relu activation"
   ]
  },
  {
   "cell_type": "code",
   "execution_count": 23,
   "id": "a4ef38a5",
   "metadata": {},
   "outputs": [],
   "source": [
    "model.add(Dense(128, activation='relu'))"
   ]
  },
  {
   "cell_type": "markdown",
   "id": "ff04652c",
   "metadata": {},
   "source": [
    "##### TODO: Add Dropout layer (rate=0.5)"
   ]
  },
  {
   "cell_type": "code",
   "execution_count": 25,
   "id": "299c8652",
   "metadata": {},
   "outputs": [],
   "source": [
    "model.add(Dropout(0.5))"
   ]
  },
  {
   "cell_type": "markdown",
   "id": "fe34c3df",
   "metadata": {},
   "source": [
    "##### TODO: Add the output Dense layer with 10 neurons and softmax activation\n"
   ]
  },
  {
   "cell_type": "code",
   "execution_count": 26,
   "id": "c0ed64bf",
   "metadata": {},
   "outputs": [],
   "source": [
    "model.add(Dense(10, activation='softmax'))"
   ]
  },
  {
   "cell_type": "markdown",
   "id": "52d4f2b5",
   "metadata": {},
   "source": [
    "##### Compile the model"
   ]
  },
  {
   "cell_type": "code",
   "execution_count": 27,
   "id": "90102c03",
   "metadata": {},
   "outputs": [],
   "source": [
    "model.compile(optimizer='adam',\n",
    "              loss='categorical_crossentropy',\n",
    "              metrics=['accuracy'])"
   ]
  },
  {
   "cell_type": "code",
   "execution_count": 30,
   "id": "aeef4591",
   "metadata": {},
   "outputs": [],
   "source": [
    "model = Sequential()\n",
    "\n",
    "# 1st conv block\n",
    "model.add(Conv2D(32, (3,3), activation='relu', input_shape=(28,28,1)))\n",
    "model.add(MaxPooling2D(pool_size=(2,2)))\n",
    "\n",
    "# 2nd conv block\n",
    "model.add(Conv2D(64, (3,3), activation='relu'))\n",
    "model.add(MaxPooling2D(pool_size=(2,2)))\n",
    "\n",
    "# Flatten before dense layers\n",
    "model.add(Flatten())\n",
    "model.add(Dense(128, activation='relu'))\n",
    "model.add(Dropout(0.5))\n",
    "\n",
    "# Output layer – 10 classes for MNIST\n",
    "model.add(Dense(10, activation='softmax'))\n",
    "model.compile(optimizer='adam',\n",
    "              loss='categorical_crossentropy',\n",
    "              metrics=['accuracy'])\n"
   ]
  },
  {
   "cell_type": "markdown",
   "id": "9d780b8c",
   "metadata": {},
   "source": [
    "#####  Step 5: Train the Model \n",
    "\n"
   ]
  },
  {
   "cell_type": "code",
   "execution_count": 31,
   "id": "1a4725c3",
   "metadata": {},
   "outputs": [
    {
     "name": "stdout",
     "output_type": "stream",
     "text": [
      "Epoch 1/5\n",
      "\u001b[1m422/422\u001b[0m \u001b[32m━━━━━━━━━━━━━━━━━━━━\u001b[0m\u001b[37m\u001b[0m \u001b[1m6s\u001b[0m 12ms/step - accuracy: 0.8980 - loss: 0.3335 - val_accuracy: 0.9808 - val_loss: 0.0656\n",
      "Epoch 2/5\n",
      "\u001b[1m422/422\u001b[0m \u001b[32m━━━━━━━━━━━━━━━━━━━━\u001b[0m\u001b[37m\u001b[0m \u001b[1m5s\u001b[0m 11ms/step - accuracy: 0.9696 - loss: 0.1031 - val_accuracy: 0.9865 - val_loss: 0.0476\n",
      "Epoch 3/5\n",
      "\u001b[1m422/422\u001b[0m \u001b[32m━━━━━━━━━━━━━━━━━━━━\u001b[0m\u001b[37m\u001b[0m \u001b[1m5s\u001b[0m 11ms/step - accuracy: 0.9776 - loss: 0.0782 - val_accuracy: 0.9882 - val_loss: 0.0414\n",
      "Epoch 4/5\n",
      "\u001b[1m422/422\u001b[0m \u001b[32m━━━━━━━━━━━━━━━━━━━━\u001b[0m\u001b[37m\u001b[0m \u001b[1m5s\u001b[0m 11ms/step - accuracy: 0.9812 - loss: 0.0620 - val_accuracy: 0.9903 - val_loss: 0.0348\n",
      "Epoch 5/5\n",
      "\u001b[1m422/422\u001b[0m \u001b[32m━━━━━━━━━━━━━━━━━━━━\u001b[0m\u001b[37m\u001b[0m \u001b[1m5s\u001b[0m 11ms/step - accuracy: 0.9832 - loss: 0.0542 - val_accuracy: 0.9907 - val_loss: 0.0369\n"
     ]
    }
   ],
   "source": [
    "history = model.fit(\n",
    "    X_train, y_train_cat,\n",
    "    epochs=5,\n",
    "    batch_size=128,\n",
    "    validation_split=0.1,\n",
    "    verbose=1\n",
    ")\n"
   ]
  },
  {
   "cell_type": "markdown",
   "id": "597fe112",
   "metadata": {},
   "source": [
    "#####  Step 6: Evaluate the Model \n",
    "##### - Evaluate model on test data"
   ]
  },
  {
   "cell_type": "code",
   "execution_count": 32,
   "id": "e838e7cb",
   "metadata": {},
   "outputs": [
    {
     "name": "stdout",
     "output_type": "stream",
     "text": [
      "Test Loss: 0.0319959819316864\n",
      "Test Accuracy: 0.9891999959945679\n"
     ]
    }
   ],
   "source": [
    "# Evaluate the model on the test set\n",
    "score = model.evaluate(X_test, y_test_cat, verbose=0)\n",
    "\n",
    "print(\"Test Loss:\", score[0])\n",
    "print(\"Test Accuracy:\", score[1])\n"
   ]
  },
  {
   "cell_type": "markdown",
   "id": "0657c795",
   "metadata": {},
   "source": [
    "#####  Step 7: Plot Training History \n",
    "##### - Plot training and validation accuracy"
   ]
  },
  {
   "cell_type": "code",
   "execution_count": 33,
   "id": "b8b08c8d",
   "metadata": {},
   "outputs": [
    {
     "data": {
      "image/png": "[encoded data removed]",
      "text/plain": [
       "<Figure size 640x480 with 1 Axes>"
      ]
     },
     "metadata": {},
     "output_type": "display_data"
    }
   ],
   "source": [
    "# Plot training & validation accuracy\n",
    "plt.plot(history.history['accuracy'])\n",
    "plt.plot(history.history['val_accuracy'])\n",
    "plt.title(\"Model Accuracy\")\n",
    "plt.xlabel(\"Epoch\")\n",
    "plt.ylabel(\"Accuracy\")\n",
    "plt.legend([\"Train\", \"Validation\"], loc=\"upper left\")\n",
    "plt.show()\n"
   ]
  },
  {
   "cell_type": "markdown",
   "id": "67cf4a68",
   "metadata": {},
   "source": [
    "##### - Plot training and validation loss curves"
   ]
  },
  {
   "cell_type": "code",
   "execution_count": 34,
   "id": "b4824cee",
   "metadata": {},
   "outputs": [
    {
     "data": {
      "image/png": "[encoded data removed]",
      "text/plain": [
       "<Figure size 640x480 with 1 Axes>"
      ]
     },
     "metadata": {},
     "output_type": "display_data"
    }
   ],
   "source": [
    "# Plot training & validation loss\n",
    "plt.plot(history.history['loss'])\n",
    "plt.plot(history.history['val_loss'])\n",
    "plt.title(\"Model Loss\")\n",
    "plt.xlabel(\"Epoch\")\n",
    "plt.ylabel(\"Loss\")\n",
    "plt.legend([\"Train\", \"Validation\"], loc=\"upper right\")\n",
    "plt.show()\n"
   ]
  },
  {
   "cell_type": "code",
   "execution_count": 35,
   "id": "56c9f515",
   "metadata": {},
   "outputs": [
    {
     "name": "stderr",
     "output_type": "stream",
     "text": [
      "WARNING:absl:You are saving your model as an HDF5 file via `model.save()` or `keras.saving.save_model(model)`. This file format is considered legacy. We recommend using instead the native Keras format, e.g. `model.save('my_model.keras')` or `keras.saving.save_model(model, 'my_model.keras')`. \n"
     ]
    }
   ],
   "source": [
    "model.save(\"mnist_model.h5\")\n"
   ]
  }
 ],
 "metadata": {
  "kernelspec": {
   "display_name": "myenv",
   "language": "python",
   "name": "python3"
  },
  "language_info": {
   "codemirror_mode": {
    "name": "ipython",
    "version": 3
   },
   "file_extension": ".py",
   "mimetype": "text/x-python",
   "name": "python",
   "nbconvert_exporter": "python",
   "pygments_lexer": "ipython3",
   "version": "3.11.13"
  }
 },
 "nbformat": 4,
 "nbformat_minor": 5
}
